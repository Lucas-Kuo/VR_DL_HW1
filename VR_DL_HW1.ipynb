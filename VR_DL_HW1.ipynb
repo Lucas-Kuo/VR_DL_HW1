{
  "nbformat": 4,
  "nbformat_minor": 0,
  "metadata": {
    "colab": {
      "name": "VR_DL-HW1.ipynb",
      "private_outputs": true,
      "provenance": [],
      "collapsed_sections": [],
      "include_colab_link": true
    },
    "kernelspec": {
      "name": "python3",
      "display_name": "Python 3"
    },
    "language_info": {
      "name": "python"
    },
    "accelerator": "GPU"
  },
  "cells": [
    {
      "cell_type": "markdown",
      "metadata": {
        "id": "view-in-github",
        "colab_type": "text"
      },
      "source": [
        "<a href=\"https://colab.research.google.com/github/Lucas-Kuo/VR_DL_HW1/blob/main/VR_DL_HW1.ipynb\" target=\"_parent\"><img src=\"https://colab.research.google.com/assets/colab-badge.svg\" alt=\"Open In Colab\"/></a>"
      ]
    },
    {
      "cell_type": "markdown",
      "metadata": {
        "id": "kmOecCjFWeS1"
      },
      "source": [
        "# **Cloning the original repo and download the base model**"
      ]
    },
    {
      "cell_type": "code",
      "metadata": {
        "id": "G1_kyD4qFj4Y"
      },
      "source": [
        "!git clone https://github.com/Lucas-Kuo/VR_DL_HW1.git\n",
        "%cd VR_DL_HW1\n",
        "!wget https://github.com/leondgarse/keras_efficientnet_v2/releases/download/effnetv2_pretrained/efficientnetv2-m-21k.h5"
      ],
      "execution_count": null,
      "outputs": []
    },
    {
      "cell_type": "markdown",
      "metadata": {
        "id": "lhdZFXZgWpu-"
      },
      "source": [
        "# **Download the training and testing dataset from my google drive**"
      ]
    },
    {
      "cell_type": "code",
      "metadata": {
        "id": "xokDhuPi6gX4"
      },
      "source": [
        "import gdown\n",
        "\n",
        "url = \"https://drive.google.com/u/0/uc?id=1dYt4iLy0euxVXordHq4RRHgWojgUjgIf&export=download\"\n",
        "output = \"2021VRDL_HW1_datasets.zip\"\n",
        "gdown.download(url, output, quiet=False)"
      ],
      "execution_count": null,
      "outputs": []
    },
    {
      "cell_type": "markdown",
      "metadata": {
        "id": "Ptf46BcyWueU"
      },
      "source": [
        "# **Unzipping the datasets to a pre-determined directory**"
      ]
    },
    {
      "cell_type": "code",
      "metadata": {
        "id": "cGFyaibN7JVz"
      },
      "source": [
        "!unzip 2021VRDL_HW1_datasets.zip\n",
        "!mkdir training_images\n",
        "!mkdir dataset\n",
        "!mkdir dataset/evaluation\n",
        "!unzip training_images.zip -d training_images\n",
        "!unzip testing_images.zip -d dataset/evaluation"
      ],
      "execution_count": null,
      "outputs": []
    },
    {
      "cell_type": "markdown",
      "metadata": {
        "id": "yLaydLNJW-o7"
      },
      "source": [
        "# **Do configuration and build well-balanced training and validation dataset**"
      ]
    },
    {
      "cell_type": "code",
      "metadata": {
        "id": "sTvXQTWwHJVJ"
      },
      "source": [
        "!python config.py\n",
        "!python build_dataset2.py"
      ],
      "execution_count": null,
      "outputs": []
    },
    {
      "cell_type": "markdown",
      "metadata": {
        "id": "8V3cyvzZUlRv"
      },
      "source": [
        "# **Inference part**"
      ]
    },
    {
      "cell_type": "markdown",
      "metadata": {
        "id": "9At0mScAUwQK"
      },
      "source": [
        "Run inference.py and the result will be written in answer.txt"
      ]
    },
    {
      "cell_type": "code",
      "metadata": {
        "id": "c8wyICpPHZkM"
      },
      "source": [
        "!python inference.py"
      ],
      "execution_count": null,
      "outputs": []
    },
    {
      "cell_type": "markdown",
      "metadata": {
        "id": "MBCc2nNcU683"
      },
      "source": [
        "# **Training part**"
      ]
    },
    {
      "cell_type": "markdown",
      "metadata": {
        "id": "86gKmgwrVZVy"
      },
      "source": [
        "Run train_model.py and two models and two histories will be saved "
      ]
    },
    {
      "cell_type": "code",
      "metadata": {
        "id": "o7Wp8FK3Vi0s"
      },
      "source": [
        "!python train_model.py"
      ],
      "execution_count": null,
      "outputs": []
    }
  ]
}