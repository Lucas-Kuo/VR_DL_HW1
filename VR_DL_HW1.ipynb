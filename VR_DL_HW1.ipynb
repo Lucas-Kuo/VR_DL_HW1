{
  "nbformat": 4,
  "nbformat_minor": 0,
  "metadata": {
    "colab": {
      "name": "VR_DL-HW1.ipynb",
      "provenance": [],
      "authorship_tag": "ABX9TyO2GTzI5ZUGhCOeU8PnrNSu",
      "include_colab_link": true
    },
    "kernelspec": {
      "name": "python3",
      "display_name": "Python 3"
    },
    "language_info": {
      "name": "python"
    }
  },
  "cells": [
    {
      "cell_type": "markdown",
      "metadata": {
        "id": "view-in-github",
        "colab_type": "text"
      },
      "source": [
        "<a href=\"https://colab.research.google.com/github/Lucas-Kuo/VR_DL_HW1/blob/main/VR_DL_HW1.ipynb\" target=\"_parent\"><img src=\"https://colab.research.google.com/assets/colab-badge.svg\" alt=\"Open In Colab\"/></a>"
      ]
    },
    {
      "cell_type": "code",
      "metadata": {
        "id": "G1_kyD4qFj4Y"
      },
      "source": [
        "!git clone https://github.com/Lucas-Kuo/VR_DL_HW1.git\n",
        "%cd VR_DL_HW1"
      ],
      "execution_count": null,
      "outputs": []
    },
    {
      "cell_type": "code",
      "metadata": {
        "id": "18XkHG7q5mUU"
      },
      "source": [
        "!pip install gdown\n",
        "!pip install imutils"
      ],
      "execution_count": null,
      "outputs": []
    },
    {
      "cell_type": "code",
      "metadata": {
        "id": "xokDhuPi6gX4"
      },
      "source": [
        "import gdown\n",
        "# Download the training and testing dataset from my drive, which had been uploaded by myself\n",
        "url = \"https://drive.google.com/u/0/uc?id=1dYt4iLy0euxVXordHq4RRHgWojgUjgIf&export=download\"\n",
        "output = \"2021VRDL_HW1_datasets.zip\"\n",
        "gdown.download(url, output, quiet=False)"
      ],
      "execution_count": null,
      "outputs": []
    },
    {
      "cell_type": "code",
      "metadata": {
        "id": "cGFyaibN7JVz"
      },
      "source": [
        "!unzip 2021VRDL_HW1_datasets.zip\n",
        "!mkdir training_images\n",
        "!mkdir dataset\n",
        "!mkdir dataset/evaluation\n",
        "!unzip training_images.zip -d training_images\n",
        "!unzip testing_images.zip -d dataset/evaluation"
      ],
      "execution_count": null,
      "outputs": []
    },
    {
      "cell_type": "code",
      "metadata": {
        "id": "sTvXQTWwHJVJ"
      },
      "source": [
        "!python config.py\n",
        "!python build_dataset.py"
      ],
      "execution_count": null,
      "outputs": []
    }
  ]
}